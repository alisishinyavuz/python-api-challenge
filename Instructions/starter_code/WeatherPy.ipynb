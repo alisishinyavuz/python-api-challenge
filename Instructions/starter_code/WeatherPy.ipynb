{
 "cells": [
  {
   "cell_type": "markdown",
   "metadata": {},
   "source": [
    "# WeatherPy\n",
    "----\n",
    "\n",
    "#### Note\n",
    "* Instructions have been included for each segment. You do not have to follow them exactly, but they are included to help you think through the steps."
   ]
  },
  {
   "cell_type": "code",
   "execution_count": 1,
   "metadata": {
    "scrolled": true
   },
   "outputs": [],
   "source": [
    "# Dependencies and Setup\n",
    "import matplotlib.pyplot as plt\n",
    "import pandas as pd\n",
    "import numpy as np\n",
    "import requests\n",
    "import time\n",
    "from scipy.stats import linregress\n",
    "import json\n",
    "\n",
    "\n",
    "# Import API key\n",
    "from api_keys import weather_api_key\n",
    "\n",
    "# Incorporated citipy to determine city based on latitude and longitude\n",
    "from citipy import citipy\n",
    "\n",
    "# Output File (CSV)\n",
    "output_data_file = \"output_data/cities.csv\"\n",
    "\n",
    "# Range of latitudes and longitudes\n",
    "lat_range = (-90, 90)\n",
    "lng_range = (-180, 180)"
   ]
  },
  {
   "cell_type": "code",
   "execution_count": 2,
   "metadata": {},
   "outputs": [],
   "source": [
    "# List for holding lat_lngs and cities\n",
    "lat_lngs = []\n",
    "cities = []\n",
    "\n",
    "# Create a set of random lat and lng combinations\n",
    "lats = np.random.uniform(lat_range[0], lat_range[1], size=1500)\n",
    "lngs = np.random.uniform(lng_range[0], lng_range[1], size=1500)\n",
    "#lngs\n",
    "\n",
    "lat_lngs = zip(lats, lngs)"
   ]
  },
  {
   "cell_type": "code",
   "execution_count": 3,
   "metadata": {},
   "outputs": [
    {
     "data": {
      "text/plain": [
       "621"
      ]
     },
     "execution_count": 3,
     "metadata": {},
     "output_type": "execute_result"
    }
   ],
   "source": [
    "# Identify nearest city for each lat, lng combination\n",
    "for lat_lng in lat_lngs:\n",
    "    city = citipy.nearest_city(lat_lng[0], lat_lng[1]).city_name\n",
    "    \n",
    "    # If the city is unique, then add it to a our cities list\n",
    "    if city not in cities:\n",
    "        cities.append(city)\n",
    "\n",
    "# Print the city count to confirm sufficient count\n",
    "len(cities)"
   ]
  },
  {
   "cell_type": "markdown",
   "metadata": {},
   "source": [
    "## Generate Cities List"
   ]
  },
  {
   "cell_type": "markdown",
   "metadata": {},
   "source": [
    "### Perform API Calls\n",
    "* Perform a weather check on each city using a series of successive API calls.\n",
    "* Include a print log of each city as it'sbeing processed (with the city number and city name).\n"
   ]
  },
  {
   "cell_type": "code",
   "execution_count": 4,
   "metadata": {
    "scrolled": true
   },
   "outputs": [],
   "source": [
    "base_url = \"http://api.openweathermap.org/data/2.5/forecast?id=524901&appid=\"\n",
    "\n",
    "url = base_url + weather_api_key\n",
    "response = requests.get(url).json()\n",
    "#print(json.dumps(response, indent = 5, sort_keys = True))"
   ]
  },
  {
   "cell_type": "code",
   "execution_count": 5,
   "metadata": {},
   "outputs": [
    {
     "name": "stdout",
     "output_type": "stream",
     "text": [
      "Processing record 1|hermanus\n",
      "Processing record 2|chokurdakh\n",
      "Processing record 3|mataura\n",
      "Processing record 4|bontang\n",
      "Processing record 5|sao geraldo do araguaia\n",
      "Processing record 6|alofi\n",
      "Record not found.skipping.\n",
      "Processing record 7|ushuaia\n",
      "Processing record 8|belmonte\n",
      "Processing record 9|uruguaiana\n",
      "Processing record 10|punta arenas\n",
      "Processing record 11|narrabri\n",
      "Processing record 12|jamestown\n",
      "Processing record 13|airai\n",
      "Processing record 14|kapaa\n",
      "Processing record 15|hithadhoo\n",
      "Record not found.skipping.\n",
      "Processing record 16|kungur\n",
      "Processing record 17|new norfolk\n",
      "Processing record 18|rikitea\n",
      "Processing record 19|paramonga\n",
      "Processing record 20|ancud\n",
      "Processing record 21|hasaki\n",
      "Record not found.skipping.\n",
      "Processing record 22|shelburne\n",
      "Processing record 23|bowen\n",
      "Processing record 24|bluff\n",
      "Processing record 25|ormara\n",
      "Processing record 26|mosetse\n",
      "Record not found.skipping.\n",
      "Processing record 27|busselton\n",
      "Processing record 28|chernyshevskiy\n",
      "Processing record 29|mayumba\n",
      "Processing record 30|okato\n",
      "Processing record 31|mount isa\n",
      "Processing record 32|kholtoson\n",
      "Processing record 33|vostok\n",
      "Processing record 34|leningradskiy\n",
      "Record not found.skipping.\n",
      "Processing record 35|caransebes\n",
      "Processing record 36|saint george\n",
      "Processing record 37|fort nelson\n",
      "Processing record 38|georgetown\n",
      "Record not found.skipping.\n",
      "Processing record 39|kindu\n",
      "Processing record 40|taltal\n",
      "Record not found.skipping.\n",
      "Processing record 41|morros\n",
      "Processing record 42|nadym\n",
      "Processing record 43|khatanga\n",
      "Record not found.skipping.\n",
      "Processing record 44|iranduba\n",
      "Processing record 45|yellowknife\n",
      "Processing record 46|constitucion\n",
      "Processing record 47|longyearbyen\n",
      "Processing record 48|tuatapere\n",
      "Record not found.skipping.\n",
      "Processing record 49|torbay\n",
      "Processing record 50|zhanaozen\n",
      "Processing record 51|vanimo\n",
      "Processing record 52|kavieng\n",
      "Processing record 53|luderitz\n",
      "Processing record 54|general roca\n",
      "Processing record 55|abha\n",
      "Record not found.skipping.\n",
      "Processing record 56|klaksvik\n",
      "Processing record 57|camacha\n",
      "Processing record 58|nantucket\n",
      "Processing record 59|puerto ayora\n",
      "Processing record 60|upernavik\n",
      "Processing record 61|surt\n",
      "Processing record 62|sitka\n",
      "Record not found.skipping.\n",
      "Processing record 63|lokosovo\n",
      "Processing record 64|ahipara\n",
      "Processing record 65|victoria\n",
      "Processing record 66|avarua\n",
      "Processing record 67|algiers\n",
      "Processing record 68|adrar\n",
      "Processing record 69|souris\n",
      "Processing record 70|havelock\n",
      "Processing record 71|antofagasta\n",
      "Processing record 72|dinar\n",
      "Processing record 73|mayo\n",
      "Processing record 74|cape town\n",
      "Processing record 75|severo-kurilsk\n",
      "Processing record 76|atuona\n",
      "Processing record 77|esperance\n",
      "Processing record 78|rafai\n",
      "Processing record 79|marsa matruh\n",
      "Processing record 80|barrow\n",
      "Processing record 81|banepa\n",
      "Processing record 82|bredasdorp\n",
      "Processing record 83|iqaluit\n",
      "Processing record 84|ponta do sol\n",
      "Processing record 85|albany\n",
      "Processing record 86|ribeira grande\n",
      "Processing record 87|la union\n",
      "Record not found.skipping.\n",
      "Processing record 88|butaritari\n",
      "Processing record 89|awjilah\n",
      "Processing record 90|harper\n",
      "Processing record 91|los llanos de aridane\n",
      "Processing record 92|thompson\n",
      "Processing record 93|votkinsk\n",
      "Processing record 94|benguela\n",
      "Processing record 95|naryan-mar\n",
      "Processing record 96|prattville\n",
      "Processing record 97|buala\n",
      "Processing record 98|grand forks\n",
      "Processing record 99|saint-philippe\n",
      "Processing record 100|callaguip\n",
      "Processing record 101|molina\n",
      "Processing record 102|chhuikhadan\n",
      "Processing record 103|meulaboh\n",
      "Processing record 104|pisco\n",
      "Processing record 105|remetea\n",
      "Processing record 106|filingue\n",
      "Processing record 107|linkoping\n",
      "Processing record 108|ternate\n",
      "Processing record 109|hobart\n",
      "Processing record 110|kadoma\n",
      "Processing record 111|east london\n",
      "Record not found.skipping.\n",
      "Processing record 112|abu dhabi\n",
      "Processing record 113|bambanglipuro\n",
      "Processing record 114|cabo san lucas\n",
      "Processing record 115|norman wells\n",
      "Processing record 116|provideniya\n",
      "Processing record 117|tuxtla gutierrez\n",
      "Record not found.skipping.\n",
      "Processing record 118|olinda\n",
      "Processing record 119|burnie\n",
      "Processing record 120|saldanha\n",
      "Processing record 121|qaanaaq\n",
      "Processing record 122|kombissiri\n",
      "Processing record 123|soroti\n",
      "Processing record 124|picos\n",
      "Processing record 125|waingapu\n",
      "Processing record 126|dmitriyevka\n",
      "Processing record 127|normandin\n",
      "Processing record 128|gazojak\n",
      "Processing record 129|mar del plata\n",
      "Processing record 130|yulara\n",
      "Processing record 131|vila franca do campo\n",
      "Processing record 132|muncar\n",
      "Processing record 133|xining\n",
      "Record not found.skipping.\n",
      "Record not found.skipping.\n",
      "Processing record 134|tuy hoa\n",
      "Processing record 135|salalah\n",
      "Processing record 136|brigham city\n",
      "Processing record 137|bethanien\n",
      "Processing record 138|nola\n",
      "Processing record 139|rietavas\n",
      "Processing record 140|turka\n",
      "Processing record 141|tomatlan\n",
      "Processing record 142|port alfred\n",
      "Processing record 143|reconquista\n",
      "Processing record 144|sao filipe\n",
      "Processing record 145|west calder\n",
      "Processing record 146|cantapoy\n",
      "Processing record 147|tuktoyaktuk\n",
      "Processing record 148|narsaq\n",
      "Processing record 149|vaini\n",
      "Processing record 150|abu kamal\n",
      "Processing record 151|katsuura\n",
      "Processing record 152|tayoltita\n",
      "Processing record 153|bengkulu\n",
      "Processing record 154|nikolskoye\n",
      "Processing record 155|beringovskiy\n",
      "Processing record 156|mackay\n",
      "Processing record 157|bambous virieux\n",
      "Processing record 158|cherskiy\n",
      "Processing record 159|pevek\n",
      "Processing record 160|shwebo\n",
      "Processing record 161|atar\n",
      "Processing record 162|ambilobe\n",
      "Processing record 163|naica\n",
      "Processing record 164|santo domingo\n",
      "Record not found.skipping.\n",
      "Processing record 165|oktyabrskiy\n",
      "Processing record 166|fortuna\n",
      "Processing record 167|segou\n",
      "Processing record 168|tocopilla\n",
      "Processing record 169|novosheshminsk\n",
      "Processing record 170|bilibino\n",
      "Processing record 171|kodiak\n",
      "Processing record 172|magistralnyy\n",
      "Processing record 173|nainpur\n",
      "Processing record 174|sarahan\n",
      "Record not found.skipping.\n",
      "Processing record 175|raga\n",
      "Processing record 176|faanui\n",
      "Processing record 177|la asuncion\n",
      "Processing record 178|honningsvag\n",
      "Processing record 179|port elizabeth\n",
      "Processing record 180|hambantota\n",
      "Processing record 181|ilovlya\n",
      "Processing record 182|oranjestad\n",
      "Processing record 183|tiksi\n",
      "Processing record 184|kotaparh\n",
      "Processing record 185|gat\n",
      "Processing record 186|pangnirtung\n",
      "Processing record 187|aasiaat\n",
      "Processing record 188|tete\n",
      "Processing record 189|miracema do tocantins\n",
      "Processing record 190|anadyr\n",
      "Processing record 191|los lunas\n",
      "Processing record 192|nome\n",
      "Processing record 193|trinidad\n",
      "Processing record 194|bada\n",
      "Processing record 195|olga\n",
      "Processing record 196|portel\n",
      "Processing record 197|loralai\n",
      "Processing record 198|polovinnoye\n",
      "Processing record 199|mandalgovi\n",
      "Record not found.skipping.\n",
      "Processing record 200|hovd\n",
      "Processing record 201|codrington\n",
      "Processing record 202|mpika\n",
      "Processing record 203|ariquemes\n",
      "Processing record 204|alenquer\n",
      "Record not found.skipping.\n",
      "Processing record 205|clyde river\n",
      "Processing record 206|yuncheng\n",
      "Processing record 207|touros\n",
      "Processing record 208|port blair\n",
      "Processing record 209|necochea\n",
      "Record not found.skipping.\n",
      "Processing record 210|porto seguro\n",
      "Processing record 211|taganak\n",
      "Processing record 212|dikson\n",
      "Processing record 213|les cayes\n",
      "Processing record 214|alta floresta\n",
      "Processing record 215|karratha\n",
      "Processing record 216|namatanai\n",
      "Processing record 217|guasdualito\n",
      "Processing record 218|broceni\n",
      "Processing record 219|sobolevo\n",
      "Processing record 220|hirara\n",
      "Processing record 221|baykit\n",
      "Processing record 222|timberlake\n",
      "Processing record 223|yar-sale\n",
      "Processing record 224|gamba\n",
      "Processing record 225|sembe\n",
      "Record not found.skipping.\n",
      "Record not found.skipping.\n",
      "Processing record 226|turukhansk\n",
      "Processing record 227|omboue\n",
      "Processing record 228|zonguldak\n",
      "Record not found.skipping.\n",
      "Processing record 229|nakatunguru\n",
      "Processing record 230|road town\n",
      "Processing record 231|port said\n",
      "Processing record 232|mao\n",
      "Processing record 233|carnarvon\n",
      "Processing record 234|djambala\n",
      "Processing record 235|kiama\n",
      "Processing record 236|mahebourg\n",
      "Processing record 237|canon city\n",
      "Processing record 238|bathsheba\n",
      "Processing record 239|soverato\n",
      "Processing record 240|palauig\n",
      "Processing record 241|morbegno\n",
      "Processing record 242|daru\n",
      "Processing record 243|boyolangu\n",
      "Processing record 244|souillac\n",
      "Processing record 245|tasiilaq\n"
     ]
    },
    {
     "name": "stdout",
     "output_type": "stream",
     "text": [
      "Processing record 246|nkhotakota\n",
      "Processing record 247|castro\n",
      "Processing record 248|san patricio\n",
      "Record not found.skipping.\n",
      "Processing record 249|shulan\n",
      "Processing record 250|bollnas\n",
      "Processing record 251|flinders\n",
      "Processing record 252|aguimes\n",
      "Processing record 253|nouadhibou\n",
      "Processing record 254|saskylakh\n",
      "Processing record 255|tautira\n",
      "Processing record 256|kurali\n",
      "Processing record 257|mojo\n",
      "Processing record 258|axim\n",
      "Processing record 259|peniche\n",
      "Processing record 260|walvis bay\n",
      "Processing record 261|belaya gora\n",
      "Processing record 262|krasnoselkup\n",
      "Processing record 263|sumter\n",
      "Processing record 264|mount gambier\n",
      "Processing record 265|deputatskiy\n",
      "Record not found.skipping.\n",
      "Processing record 266|manhush\n",
      "Processing record 267|wukari\n",
      "Processing record 268|kainantu\n",
      "Processing record 269|grand gaube\n",
      "Processing record 270|pontarlier\n",
      "Processing record 271|piney green\n",
      "Processing record 272|sur\n",
      "Processing record 273|evensk\n",
      "Processing record 274|kahului\n",
      "Processing record 275|fez\n",
      "Processing record 276|rio gallegos\n",
      "Processing record 277|flin flon\n",
      "Processing record 278|college\n",
      "Processing record 279|uthal\n",
      "Processing record 280|hilo\n",
      "Processing record 281|cidreira\n",
      "Processing record 282|oudtshoorn\n",
      "Processing record 283|purpe\n",
      "Processing record 284|zhigansk\n",
      "Record not found.skipping.\n",
      "Processing record 285|fukue\n",
      "Processing record 286|izhma\n",
      "Processing record 287|geraldton\n",
      "Processing record 288|shanghai\n",
      "Processing record 289|kaitangata\n",
      "Processing record 290|milkovo\n",
      "Processing record 291|puerto escondido\n",
      "Record not found.skipping.\n",
      "Processing record 292|poum\n",
      "Processing record 293|khash\n",
      "Processing record 294|woodward\n",
      "Record not found.skipping.\n",
      "Processing record 295|meiktila\n",
      "Processing record 296|kokkola\n",
      "Processing record 297|laguna\n",
      "Processing record 298|hurricane\n",
      "Processing record 299|half moon bay\n",
      "Processing record 300|verkhniy lomov\n",
      "Processing record 301|behbahan\n",
      "Processing record 302|asau\n",
      "Processing record 303|borogontsy\n",
      "Processing record 304|juazeiro\n",
      "Processing record 305|te anau\n",
      "Processing record 306|raudeberg\n",
      "Processing record 307|pervomayskoye\n",
      "Processing record 308|mirnyy\n",
      "Processing record 309|kirakira\n",
      "Processing record 310|chapada dos guimaraes\n",
      "Processing record 311|olafsvik\n",
      "Processing record 312|ndende\n",
      "Processing record 313|san quintin\n",
      "Processing record 314|komsomolskiy\n",
      "Processing record 315|truro\n",
      "Record not found.skipping.\n",
      "Processing record 316|gurlan\n",
      "Processing record 317|issaquah\n",
      "Processing record 318|bandarbeyla\n",
      "Processing record 319|mersing\n",
      "Processing record 320|jalalpur pirwala\n",
      "Processing record 321|ordynskoye\n",
      "Processing record 322|padang\n",
      "Processing record 323|charkhari\n",
      "Processing record 324|shimoda\n",
      "Processing record 325|coahuayana\n",
      "Processing record 326|yatou\n",
      "Processing record 327|polson\n",
      "Processing record 328|vilhena\n",
      "Processing record 329|lebu\n",
      "Processing record 330|nyzhnya duvanka\n",
      "Processing record 331|indiana\n",
      "Processing record 332|dakar\n",
      "Processing record 333|isangel\n",
      "Processing record 334|margate\n",
      "Processing record 335|ahuimanu\n",
      "Processing record 336|tahoua\n",
      "Processing record 337|bibiani\n",
      "Processing record 338|xiongzhou\n",
      "Processing record 339|polewali\n",
      "Processing record 340|cap malheureux\n",
      "Processing record 341|sao felix do xingu\n",
      "Processing record 342|chumikan\n",
      "Processing record 343|starokucherganovka\n",
      "Processing record 344|dabakala\n",
      "Processing record 345|christchurch\n",
      "Processing record 346|rypefjord\n",
      "Processing record 347|port macquarie\n",
      "Processing record 348|bairiki\n",
      "Processing record 349|lorengau\n",
      "Processing record 350|hamilton\n",
      "Processing record 351|constantine\n",
      "Record not found.skipping.\n",
      "Processing record 352|iquique\n",
      "Processing record 353|oranjemund\n",
      "Processing record 354|kanlagay\n",
      "Processing record 355|pekan\n",
      "Processing record 356|pitimbu\n",
      "Processing record 357|baft\n",
      "Processing record 358|svetlaya\n",
      "Processing record 359|talnakh\n",
      "Processing record 360|port hardy\n",
      "Processing record 361|namibe\n",
      "Processing record 362|san andres\n",
      "Processing record 363|puri\n",
      "Processing record 364|stettler\n",
      "Processing record 365|kropotkin\n",
      "Processing record 366|shenzhen\n",
      "Processing record 367|gizo\n",
      "Processing record 368|bud\n",
      "Processing record 369|sola\n",
      "Processing record 370|victor harbor\n",
      "Processing record 371|anchorage\n",
      "Processing record 372|mocajuba\n",
      "Processing record 373|srednekolymsk\n",
      "Processing record 374|mazatan\n",
      "Processing record 375|dongsheng\n",
      "Processing record 376|ust-nera\n",
      "Processing record 377|dunmore town\n",
      "Processing record 378|beirut\n",
      "Processing record 379|caravelas\n",
      "Processing record 380|najran\n",
      "Processing record 381|otjimbingwe\n",
      "Processing record 382|paamiut\n",
      "Processing record 383|odweyne\n",
      "Processing record 384|peru\n",
      "Processing record 385|bethel\n",
      "Processing record 386|binga\n",
      "Processing record 387|asyut\n",
      "Processing record 388|aswan\n",
      "Processing record 389|cortland\n",
      "Processing record 390|richards bay\n",
      "Processing record 391|kloulklubed\n",
      "Record not found.skipping.\n",
      "Record not found.skipping.\n",
      "Processing record 392|enugu\n",
      "Processing record 393|porto belo\n",
      "Processing record 394|sistranda\n",
      "Processing record 395|miraflores\n",
      "Processing record 396|am timan\n",
      "Record not found.skipping.\n",
      "Processing record 397|nishihara\n",
      "Processing record 398|barrhead\n",
      "Processing record 399|koumra\n",
      "Record not found.skipping.\n",
      "Processing record 400|kadirli\n",
      "Record not found.skipping.\n",
      "Processing record 401|buin\n",
      "Processing record 402|kruisfontein\n",
      "Processing record 403|bereda\n",
      "Processing record 404|mindelo\n",
      "Processing record 405|san antonio\n",
      "Processing record 406|smolyaninovo\n",
      "Processing record 407|marovoay\n",
      "Record not found.skipping.\n",
      "Processing record 408|guerrero negro\n",
      "Processing record 409|dunedin\n",
      "Processing record 410|matara\n",
      "Processing record 411|fayaoue\n",
      "Processing record 412|arraial do cabo\n",
      "Processing record 413|andros town\n",
      "Processing record 414|nueva guinea\n",
      "Processing record 415|husavik\n",
      "Processing record 416|portland\n",
      "Processing record 417|oktyabrskoye\n",
      "Processing record 418|port lincoln\n",
      "Processing record 419|hofn\n",
      "Record not found.skipping.\n",
      "Processing record 420|coruripe\n",
      "Processing record 421|marathon\n",
      "Processing record 422|cap-aux-meules\n",
      "Processing record 423|biak\n",
      "Processing record 424|modasa\n",
      "Processing record 425|lafia\n",
      "Processing record 426|north bend\n",
      "Processing record 427|egvekinot\n",
      "Processing record 428|grand baie\n",
      "Processing record 429|kudahuvadhoo\n",
      "Processing record 430|xinqing\n",
      "Processing record 431|vardo\n",
      "Processing record 432|vilyuysk\n",
      "Processing record 433|marevo\n",
      "Processing record 434|dwarka\n",
      "Processing record 435|makat\n",
      "Processing record 436|horezu\n",
      "Processing record 437|guapo\n",
      "Processing record 438|presidencia roque saenz pena\n",
      "Processing record 439|san martin\n",
      "Processing record 440|buzmeyin\n",
      "Processing record 441|udachnyy\n",
      "Record not found.skipping.\n",
      "Processing record 442|kaeo\n",
      "Processing record 443|ambon\n",
      "Processing record 444|nelson bay\n",
      "Processing record 445|dingle\n",
      "Processing record 446|san ramon\n",
      "Processing record 447|cachoeira do sul\n",
      "Processing record 448|parabel\n",
      "Processing record 449|tashtyp\n",
      "Processing record 450|bonavista\n",
      "Processing record 451|zavodoukovsk\n",
      "Processing record 452|heihe\n",
      "Processing record 453|marawi\n",
      "Processing record 454|lompoc\n",
      "Processing record 455|lavrentiya\n",
      "Processing record 456|alamogordo\n",
      "Processing record 457|irbit\n",
      "Processing record 458|ostrovnoy\n",
      "Processing record 459|sovetskiy\n",
      "Processing record 460|saint-francois\n",
      "Processing record 461|puerto del rosario\n",
      "Processing record 462|lamu\n",
      "Processing record 463|ola\n",
      "Processing record 464|manggar\n",
      "Processing record 465|caico\n",
      "Record not found.skipping.\n",
      "Processing record 466|tagusao\n",
      "Processing record 467|rafraf\n",
      "Processing record 468|muscle shoals\n",
      "Processing record 469|angoche\n",
      "Processing record 470|saint-louis\n",
      "Processing record 471|yerbogachen\n",
      "Processing record 472|requena\n",
      "Record not found.skipping.\n",
      "Processing record 473|grindavik\n",
      "Processing record 474|kualakapuas\n",
      "Processing record 475|puerto lempira\n",
      "Record not found.skipping.\n",
      "Processing record 476|puerto madryn\n",
      "Processing record 477|newcastle\n",
      "Processing record 478|nioki\n",
      "Processing record 479|aklavik\n",
      "Processing record 480|vao\n",
      "Processing record 481|matamoros\n",
      "Processing record 482|alamos\n",
      "Processing record 483|krasnoarmeysk\n",
      "Processing record 484|wembley\n",
      "Processing record 485|saint-joseph\n",
      "Processing record 486|lebowakgomo\n",
      "Record not found.skipping.\n",
      "Processing record 487|impfondo\n",
      "Processing record 488|yunhe\n",
      "Processing record 489|mogzon\n",
      "Processing record 490|high level\n"
     ]
    },
    {
     "name": "stdout",
     "output_type": "stream",
     "text": [
      "Processing record 491|senanga\n",
      "Processing record 492|nizhnyaya tavda\n",
      "Processing record 493|springbok\n",
      "Processing record 494|mancio lima\n",
      "Processing record 495|micomeseng\n",
      "Processing record 496|korla\n",
      "Processing record 497|berlevag\n",
      "Processing record 498|hua hin\n",
      "Processing record 499|hede\n",
      "Processing record 500|antalaha\n",
      "Processing record 501|kasganj\n",
      "Processing record 502|kasongo-lunda\n",
      "Processing record 503|springfield\n",
      "Processing record 504|abu samrah\n",
      "Processing record 505|torit\n",
      "Processing record 506|carutapera\n",
      "Processing record 507|mana\n",
      "Processing record 508|bassano\n",
      "Processing record 509|male\n",
      "Processing record 510|san rafael\n",
      "Processing record 511|nicoya\n",
      "Processing record 512|ilulissat\n",
      "Processing record 513|novobirilyussy\n",
      "Processing record 514|salinas\n",
      "Processing record 515|morondava\n",
      "Processing record 516|omsk\n",
      "Record not found.skipping.\n",
      "Processing record 517|kendal\n",
      "Record not found.skipping.\n",
      "Processing record 518|nosy varika\n",
      "Record not found.skipping.\n",
      "Processing record 519|port-gentil\n",
      "Processing record 520|prescott\n",
      "Processing record 521|sinnamary\n",
      "Record not found.skipping.\n",
      "Processing record 522|broome\n",
      "Processing record 523|la brea\n",
      "Processing record 524|nogales\n",
      "Processing record 525|plettenberg bay\n",
      "Processing record 526|neyvo-shaytanskiy\n",
      "Processing record 527|khani\n",
      "Processing record 528|pochutla\n",
      "Processing record 529|mandalgarh\n",
      "Processing record 530|salto\n",
      "Processing record 531|cortona\n",
      "Processing record 532|lasa\n",
      "Processing record 533|callaway\n",
      "Processing record 534|trincomalee\n",
      "Processing record 535|zabaykalsk\n",
      "Processing record 536|saint-augustin\n",
      "Processing record 537|taoudenni\n",
      "Processing record 538|san cristobal\n",
      "Processing record 539|baker city\n",
      "Processing record 540|benin\n",
      "Processing record 541|poya\n",
      "Processing record 542|vrises\n",
      "Processing record 543|arman\n",
      "Processing record 544|cabras\n",
      "Processing record 545|sibolga\n",
      "Processing record 546|genhe\n",
      "Processing record 547|rakovnik\n",
      "Processing record 548|chuy\n",
      "Processing record 549|petropavlovsk-kamchatskiy\n",
      "Processing record 550|barmer\n",
      "Record not found.skipping.\n",
      "Processing record 551|kieta\n",
      "Processing record 552|russell\n",
      "Processing record 553|opuwo\n",
      "Processing record 554|ambovombe\n",
      "Processing record 555|ngama\n",
      "Processing record 556|shenjiamen\n",
      "Processing record 557|pemangkat\n",
      "Processing record 558|tiznit\n",
      "Processing record 559|kousseri\n",
      "Processing record 560|porto novo\n",
      "Processing record 561|hami\n",
      "Record not found.skipping.\n",
      "Processing record 562|kachug\n",
      "Processing record 563|pangoa\n",
      "Processing record 564|kaihua\n",
      "Processing record 565|cross lanes\n",
      "Processing record 566|ulaangom\n",
      "Processing record 567|jasper\n",
      "Processing record 568|takaka\n",
      "Processing record 569|at-bashi\n",
      "Processing record 570|haverfordwest\n",
      "Processing record 571|laukaa\n",
      "Processing record 572|partizanskoye\n",
      "Completed!\n"
     ]
    }
   ],
   "source": [
    "#empty lists defined to store findings\n",
    "country = []\n",
    "city_name =[]\n",
    "date = []\n",
    "cloudiness= []\n",
    "wind_speed = []\n",
    "max_temp = []\n",
    "humidity = []\n",
    "lat = []\n",
    "lng = []\n",
    "\n",
    "\n",
    "#Request data on each city \n",
    "count = 1\n",
    "\n",
    "for city in cities:\n",
    "    \n",
    "    query_url = url + \"&units=Imperial\" + \"&q=\" +city\n",
    "    \n",
    "    response_json = requests.get(query_url).json() \n",
    "    \n",
    "    #print(json.dumps(response_json, indent= 5, sort_keys = True))\n",
    "    \n",
    "    try:\n",
    "        \n",
    "        country.append(response_json[\"city\"][\"country\"])\n",
    "        city_name.append(response_json[\"city\"][\"name\"])\n",
    "        date.append(response_json[\"list\"][0][\"dt\"])\n",
    "        cloudiness.append(response_json[\"list\"][0][\"clouds\"][\"all\"])\n",
    "        wind_speed.append(response_json[\"list\"][0][\"wind\"][\"speed\"])\n",
    "        max_temp.append(response_json[\"list\"][0][\"main\"][\"temp_max\"])\n",
    "        humidity.append(response_json[\"list\"][0][\"main\"][\"humidity\"])\n",
    "        lat.append(response_json[\"city\"][\"coord\"][\"lat\"])  \n",
    "        lng.append(response_json[\"city\"][\"coord\"][\"lon\"])\n",
    "        \n",
    "      \n",
    "        print(f\"Processing record {count}|{city}\")\n",
    "        count+=1\n",
    "        \n",
    "    except (KeyError, IndexError):\n",
    "        print(\"Record not found.skipping.\")\n",
    "        \n",
    "print(\"Completed!\")\n",
    "   "
   ]
  },
  {
   "cell_type": "markdown",
   "metadata": {},
   "source": [
    "### Convert Raw Data to DataFrame\n",
    "* Export the city data into a .csv.\n",
    "* Display the DataFrame"
   ]
  },
  {
   "cell_type": "code",
   "execution_count": 8,
   "metadata": {},
   "outputs": [
    {
     "data": {
      "text/html": [
       "<div>\n",
       "<style scoped>\n",
       "    .dataframe tbody tr th:only-of-type {\n",
       "        vertical-align: middle;\n",
       "    }\n",
       "\n",
       "    .dataframe tbody tr th {\n",
       "        vertical-align: top;\n",
       "    }\n",
       "\n",
       "    .dataframe thead th {\n",
       "        text-align: right;\n",
       "    }\n",
       "</style>\n",
       "<table border=\"1\" class=\"dataframe\">\n",
       "  <thead>\n",
       "    <tr style=\"text-align: right;\">\n",
       "      <th></th>\n",
       "      <th>City</th>\n",
       "      <th>Cloudiness</th>\n",
       "      <th>Country</th>\n",
       "      <th>Date</th>\n",
       "      <th>Humidity</th>\n",
       "      <th>Latitude</th>\n",
       "      <th>Longitude</th>\n",
       "      <th>Max Temp</th>\n",
       "      <th>Wind Speed</th>\n",
       "    </tr>\n",
       "  </thead>\n",
       "  <tbody>\n",
       "    <tr>\n",
       "      <th>0</th>\n",
       "      <td>Hermanus</td>\n",
       "      <td>0</td>\n",
       "      <td>ZA</td>\n",
       "      <td>1635141600</td>\n",
       "      <td>70</td>\n",
       "      <td>-34.4187</td>\n",
       "      <td>19.2345</td>\n",
       "      <td>58.08</td>\n",
       "      <td>13.02</td>\n",
       "    </tr>\n",
       "    <tr>\n",
       "      <th>1</th>\n",
       "      <td>Chokurdakh</td>\n",
       "      <td>100</td>\n",
       "      <td>RU</td>\n",
       "      <td>1635141600</td>\n",
       "      <td>99</td>\n",
       "      <td>70.6333</td>\n",
       "      <td>147.9167</td>\n",
       "      <td>-4.72</td>\n",
       "      <td>3.02</td>\n",
       "    </tr>\n",
       "    <tr>\n",
       "      <th>2</th>\n",
       "      <td>Mataura</td>\n",
       "      <td>97</td>\n",
       "      <td>NZ</td>\n",
       "      <td>1635141600</td>\n",
       "      <td>78</td>\n",
       "      <td>-46.1927</td>\n",
       "      <td>168.8643</td>\n",
       "      <td>60.85</td>\n",
       "      <td>2.71</td>\n",
       "    </tr>\n",
       "    <tr>\n",
       "      <th>3</th>\n",
       "      <td>Bontang</td>\n",
       "      <td>100</td>\n",
       "      <td>ID</td>\n",
       "      <td>1635141600</td>\n",
       "      <td>73</td>\n",
       "      <td>0.1333</td>\n",
       "      <td>117.5000</td>\n",
       "      <td>83.41</td>\n",
       "      <td>10.49</td>\n",
       "    </tr>\n",
       "    <tr>\n",
       "      <th>4</th>\n",
       "      <td>São Geraldo do Araguaia</td>\n",
       "      <td>68</td>\n",
       "      <td>BR</td>\n",
       "      <td>1635141600</td>\n",
       "      <td>92</td>\n",
       "      <td>-6.4006</td>\n",
       "      <td>-48.5550</td>\n",
       "      <td>74.19</td>\n",
       "      <td>0.56</td>\n",
       "    </tr>\n",
       "  </tbody>\n",
       "</table>\n",
       "</div>"
      ],
      "text/plain": [
       "                      City  Cloudiness Country        Date  Humidity  \\\n",
       "0                 Hermanus           0      ZA  1635141600        70   \n",
       "1               Chokurdakh         100      RU  1635141600        99   \n",
       "2                  Mataura          97      NZ  1635141600        78   \n",
       "3                  Bontang         100      ID  1635141600        73   \n",
       "4  São Geraldo do Araguaia          68      BR  1635141600        92   \n",
       "\n",
       "   Latitude  Longitude  Max Temp  Wind Speed  \n",
       "0  -34.4187    19.2345     58.08       13.02  \n",
       "1   70.6333   147.9167     -4.72        3.02  \n",
       "2  -46.1927   168.8643     60.85        2.71  \n",
       "3    0.1333   117.5000     83.41       10.49  \n",
       "4   -6.4006   -48.5550     74.19        0.56  "
      ]
     },
     "execution_count": 8,
     "metadata": {},
     "output_type": "execute_result"
    }
   ],
   "source": [
    "weather_data = pd.DataFrame({\"City\":city_name, \"Cloudiness\":cloudiness,\"Country\":country, \n",
    "                          \"Date\":date, \"Humidity\":humidity, \"Latitude\":lat,\"Longitude\":lng, \n",
    "                         \"Max Temp\":max_temp, \"Wind Speed\":wind_speed})\n",
    "\n",
    "#weather_data =weather_data.rename_axis(\"City ID\")\n",
    "\n",
    "#Export the city data into a .csv.\n",
    "weather_data.to_csv(\"../output_data/weather.csv\")\n",
    "#Display the DataFrame\n",
    "weather_data.head()"
   ]
  },
  {
   "cell_type": "code",
   "execution_count": 9,
   "metadata": {},
   "outputs": [],
   "source": [
    "#weather_data.dtypes\n",
    "#weather_data.dtypes == object"
   ]
  },
  {
   "cell_type": "code",
   "execution_count": 10,
   "metadata": {},
   "outputs": [
    {
     "data": {
      "text/plain": [
       "City           Cloudiness  Country  Date        Humidity  Latitude  Longitude  Max Temp  Wind Speed\n",
       "Aasiaat        94          GL       1635141600  97         68.7098  -52.8699   4.06      7.34          1\n",
       "Pervomayskoye  100         RU       1635141600  55         43.9190   46.7102   51.12     18.19         1\n",
       "Paramonga      27          PE       1635141600  88        -10.6667  -77.8333   61.59     8.66          1\n",
       "Partizanskoye  100         RU       1635141600  72         55.5006   94.3900   46.53     19.42         1\n",
       "Pekan          59          MY       1635141600  66         3.4836    103.3996  89.06     5.03          1\n",
       "                                                                                                      ..\n",
       "Honningsvåg    0           NO       1635141600  80         70.9821   25.9704   35.47     18.84         1\n",
       "Hong Kong      63          HK       1635141600  72         22.2855   114.1577  76.66     5.50          1\n",
       "Hofn           100         IS       1635141600  64         64.2539  -15.2082   41.67     20.69         1\n",
       "Hobart         75          AU       1635141600  81        -42.8794   147.3294  52.00     9.55          1\n",
       "‘Āhuimanu      26          US       1635141600  77         21.4447  -157.8378  76.28     16.69         1\n",
       "Length: 572, dtype: int64"
      ]
     },
     "execution_count": 10,
     "metadata": {},
     "output_type": "execute_result"
    }
   ],
   "source": [
    "weather_data.value_counts()"
   ]
  },
  {
   "cell_type": "markdown",
   "metadata": {},
   "source": [
    "## Inspect the data and remove the cities where the humidity > 100%.\n",
    "----\n",
    "Skip this step if there are no cities that have humidity > 100%. "
   ]
  },
  {
   "cell_type": "code",
   "execution_count": 11,
   "metadata": {},
   "outputs": [],
   "source": [
    "#weather_data.count()"
   ]
  },
  {
   "cell_type": "code",
   "execution_count": 12,
   "metadata": {},
   "outputs": [
    {
     "data": {
      "text/html": [
       "<div>\n",
       "<style scoped>\n",
       "    .dataframe tbody tr th:only-of-type {\n",
       "        vertical-align: middle;\n",
       "    }\n",
       "\n",
       "    .dataframe tbody tr th {\n",
       "        vertical-align: top;\n",
       "    }\n",
       "\n",
       "    .dataframe thead th {\n",
       "        text-align: right;\n",
       "    }\n",
       "</style>\n",
       "<table border=\"1\" class=\"dataframe\">\n",
       "  <thead>\n",
       "    <tr style=\"text-align: right;\">\n",
       "      <th></th>\n",
       "      <th>City</th>\n",
       "      <th>Cloudiness</th>\n",
       "      <th>Country</th>\n",
       "      <th>Date</th>\n",
       "      <th>Humidity</th>\n",
       "      <th>Latitude</th>\n",
       "      <th>Longitude</th>\n",
       "      <th>Max Temp</th>\n",
       "      <th>Wind Speed</th>\n",
       "    </tr>\n",
       "  </thead>\n",
       "  <tbody>\n",
       "  </tbody>\n",
       "</table>\n",
       "</div>"
      ],
      "text/plain": [
       "Empty DataFrame\n",
       "Columns: [City, Cloudiness, Country, Date, Humidity, Latitude, Longitude, Max Temp, Wind Speed]\n",
       "Index: []"
      ]
     },
     "execution_count": 12,
     "metadata": {},
     "output_type": "execute_result"
    }
   ],
   "source": [
    "#  Get the indices of cities that have humidity over 100%.\n",
    "high_humidity = weather_data.loc[weather_data[\"Humidity\"] > 100]\n",
    "high_humidity"
   ]
  },
  {
   "cell_type": "code",
   "execution_count": 13,
   "metadata": {},
   "outputs": [],
   "source": [
    "# Make a new DataFrame equal to the city data to drop all humidity outliers by index.\n",
    "# Passing \"inplace=False\" will make a copy of the city_data DataFrame, which we call \"clean_city_data\".\n"
   ]
  },
  {
   "cell_type": "code",
   "execution_count": 14,
   "metadata": {},
   "outputs": [],
   "source": [
    "clean_city_data= weather_data.dropna(inplace = False)\n"
   ]
  },
  {
   "cell_type": "markdown",
   "metadata": {},
   "source": [
    "## Plotting the Data\n",
    "* Use proper labeling of the plots using plot titles (including date of analysis) and axes labels.\n",
    "* Save the plotted figures as .pngs."
   ]
  },
  {
   "cell_type": "markdown",
   "metadata": {},
   "source": [
    "## Latitude vs. Temperature Plot"
   ]
  },
  {
   "cell_type": "code",
   "execution_count": 59,
   "metadata": {},
   "outputs": [
    {
     "data": {
      "image/png": "[encoded data removed]",
      "text/plain": [
       "<Figure size 432x288 with 1 Axes>"
      ]
     },
     "metadata": {
      "needs_background": "light"
     },
     "output_type": "display_data"
    }
   ],
   "source": [
    "#create a scatter plot for latitude vs max temperature to see the relationship between them\n",
    "x= weather_data[\"Latitude\"]\n",
    "y1 = weather_data[\"Max Temp\"]\n",
    "\n",
    "plt.scatter(x,y1)\n",
    "plt.xlabel(\"Latitude\")\n",
    "plt.ylabel(\"Max Temperature\")\n",
    "plt.title(\"Latitude vs. Max Temperature\")\n",
    "plt.savefig(\"latvsmaxtemp\")\n",
    "plt.show()"
   ]
  },
  {
   "cell_type": "code",
   "execution_count": 60,
   "metadata": {},
   "outputs": [
    {
     "ename": "SyntaxError",
     "evalue": "invalid syntax (<ipython-input-60-ca18850d2945>, line 1)",
     "output_type": "error",
     "traceback": [
      "\u001b[0;36m  File \u001b[0;32m\"<ipython-input-60-ca18850d2945>\"\u001b[0;36m, line \u001b[0;32m1\u001b[0m\n\u001b[0;31m    We see positive correlation on south,\u001b[0m\n\u001b[0m       ^\u001b[0m\n\u001b[0;31mSyntaxError\u001b[0m\u001b[0;31m:\u001b[0m invalid syntax\n"
     ]
    }
   ],
   "source": [
    "We see positive correlation on south, \n",
    "and negative correlation on north side when we check latitude vs max temperature relationship.\n"
   ]
  },
  {
   "cell_type": "markdown",
   "metadata": {},
   "source": [
    "## Latitude vs. Humidity Plot"
   ]
  },
  {
   "cell_type": "code",
   "execution_count": 79,
   "metadata": {
    "scrolled": true
   },
   "outputs": [
    {
     "data": {
      "image/png": "[encoded data removed]",
      "text/plain": [
       "<Figure size 432x288 with 1 Axes>"
      ]
     },
     "metadata": {
      "needs_background": "light"
     },
     "output_type": "display_data"
    }
   ],
   "source": [
    "#create a scatter plot for latitude vs humidity to see the relationship between them\n",
    "y2 = weather_data[\"Humidity\"]\n",
    "\n",
    "plt.scatter(x,y2)\n",
    "plt.xlabel(\"Latitude\")\n",
    "plt.ylabel(\"Humidity(%)\")\n",
    "plt.title(\"Latitude vs. Humidity\")\n",
    "plt.savefig(\"latvshumidity\")\n",
    "plt.show()"
   ]
  },
  {
   "cell_type": "markdown",
   "metadata": {},
   "source": [
    "## Latitude vs. Cloudiness Plot"
   ]
  },
  {
   "cell_type": "code",
   "execution_count": 80,
   "metadata": {},
   "outputs": [
    {
     "data": {
      "image/png": "[encoded data removed]",
      "text/plain": [
       "<Figure size 432x288 with 1 Axes>"
      ]
     },
     "metadata": {
      "needs_background": "light"
     },
     "output_type": "display_data"
    }
   ],
   "source": [
    "#create a scatter plot for latitude vs cloudiness to see the relationship between them\n",
    "y3 = weather_data[\"Cloudiness\"]\n",
    "\n",
    "plt.scatter(x,y3)\n",
    "plt.xlabel(\"Latitude\")\n",
    "plt.ylabel(\"Cloudiness(%)\")\n",
    "plt.title(\"Latitude vs. Cloudiness\")\n",
    "plt.savefig(\"latvscloudiness\")\n",
    "plt.show()"
   ]
  },
  {
   "cell_type": "markdown",
   "metadata": {},
   "source": [
    "## Latitude vs. Wind Speed Plot"
   ]
  },
  {
   "cell_type": "code",
   "execution_count": 81,
   "metadata": {},
   "outputs": [
    {
     "data": {
      "image/png": "[encoded data removed]",
      "text/plain": [
       "<Figure size 432x288 with 1 Axes>"
      ]
     },
     "metadata": {
      "needs_background": "light"
     },
     "output_type": "display_data"
    }
   ],
   "source": [
    "#create a scatter plot for latitude vs wind speed to see the relationship between them\n",
    "y4 = weather_data[\"Wind Speed\"]\n",
    "\n",
    "plt.scatter(x,y4)\n",
    "plt.xlabel(\"Latitude\")\n",
    "plt.ylabel(\"Wind Speed (mph)\")\n",
    "plt.title(\"Latitude vs. Wind Speed\")\n",
    "plt.savefig(\"latvshumidity\")\n",
    "plt.show()"
   ]
  },
  {
   "cell_type": "markdown",
   "metadata": {},
   "source": [
    "## Linear Regression"
   ]
  },
  {
   "cell_type": "code",
   "execution_count": 93,
   "metadata": {},
   "outputs": [],
   "source": [
    "def lin_reg_plot(x_values, y_values):\n",
    "    (slope, intercept, rvalue, pvalue, stderr) = linregress(x_values, y_values)\n",
    "    regress_values = x_values * slope + intercept\n",
    "    line_eq = \"y =\" + str(round(slope,2) ) + \"x + \" + str(round(intercept,2))\n",
    "\n",
    "    plt.scatter(x_values, y_values)\n",
    "    plt.plot(x_values, regress_values, \"r-\")\n",
    "    plt.annotate(line_eq,(x_values.median(), y_values.median()),fontsize=15,color=\"red\")\n",
    "    plt.xlabel(\"Latitude\")\n",
    "    print(f\"The r-squared is : {rvalue**2}\")\n",
    "    plt.show()"
   ]
  },
  {
   "cell_type": "markdown",
   "metadata": {},
   "source": [
    "####  Northern Hemisphere - Max Temp vs. Latitude Linear Regression"
   ]
  },
  {
   "cell_type": "code",
   "execution_count": 94,
   "metadata": {},
   "outputs": [
    {
     "data": {
      "text/html": [
       "<div>\n",
       "<style scoped>\n",
       "    .dataframe tbody tr th:only-of-type {\n",
       "        vertical-align: middle;\n",
       "    }\n",
       "\n",
       "    .dataframe tbody tr th {\n",
       "        vertical-align: top;\n",
       "    }\n",
       "\n",
       "    .dataframe thead th {\n",
       "        text-align: right;\n",
       "    }\n",
       "</style>\n",
       "<table border=\"1\" class=\"dataframe\">\n",
       "  <thead>\n",
       "    <tr style=\"text-align: right;\">\n",
       "      <th></th>\n",
       "      <th>City</th>\n",
       "      <th>Cloudiness</th>\n",
       "      <th>Country</th>\n",
       "      <th>Date</th>\n",
       "      <th>Humidity</th>\n",
       "      <th>Latitude</th>\n",
       "      <th>Longitude</th>\n",
       "      <th>Max Temp</th>\n",
       "      <th>Wind Speed</th>\n",
       "    </tr>\n",
       "  </thead>\n",
       "  <tbody>\n",
       "    <tr>\n",
       "      <th>0</th>\n",
       "      <td>Hermanus</td>\n",
       "      <td>0</td>\n",
       "      <td>ZA</td>\n",
       "      <td>1635141600</td>\n",
       "      <td>70</td>\n",
       "      <td>-34.4187</td>\n",
       "      <td>19.2345</td>\n",
       "      <td>58.08</td>\n",
       "      <td>13.02</td>\n",
       "    </tr>\n",
       "    <tr>\n",
       "      <th>1</th>\n",
       "      <td>Chokurdakh</td>\n",
       "      <td>100</td>\n",
       "      <td>RU</td>\n",
       "      <td>1635141600</td>\n",
       "      <td>99</td>\n",
       "      <td>70.6333</td>\n",
       "      <td>147.9167</td>\n",
       "      <td>-4.72</td>\n",
       "      <td>3.02</td>\n",
       "    </tr>\n",
       "    <tr>\n",
       "      <th>2</th>\n",
       "      <td>Mataura</td>\n",
       "      <td>97</td>\n",
       "      <td>NZ</td>\n",
       "      <td>1635141600</td>\n",
       "      <td>78</td>\n",
       "      <td>-46.1927</td>\n",
       "      <td>168.8643</td>\n",
       "      <td>60.85</td>\n",
       "      <td>2.71</td>\n",
       "    </tr>\n",
       "    <tr>\n",
       "      <th>3</th>\n",
       "      <td>Bontang</td>\n",
       "      <td>100</td>\n",
       "      <td>ID</td>\n",
       "      <td>1635141600</td>\n",
       "      <td>73</td>\n",
       "      <td>0.1333</td>\n",
       "      <td>117.5000</td>\n",
       "      <td>83.41</td>\n",
       "      <td>10.49</td>\n",
       "    </tr>\n",
       "    <tr>\n",
       "      <th>4</th>\n",
       "      <td>São Geraldo do Araguaia</td>\n",
       "      <td>68</td>\n",
       "      <td>BR</td>\n",
       "      <td>1635141600</td>\n",
       "      <td>92</td>\n",
       "      <td>-6.4006</td>\n",
       "      <td>-48.5550</td>\n",
       "      <td>74.19</td>\n",
       "      <td>0.56</td>\n",
       "    </tr>\n",
       "  </tbody>\n",
       "</table>\n",
       "</div>"
      ],
      "text/plain": [
       "                      City  Cloudiness Country        Date  Humidity  \\\n",
       "0                 Hermanus           0      ZA  1635141600        70   \n",
       "1               Chokurdakh         100      RU  1635141600        99   \n",
       "2                  Mataura          97      NZ  1635141600        78   \n",
       "3                  Bontang         100      ID  1635141600        73   \n",
       "4  São Geraldo do Araguaia          68      BR  1635141600        92   \n",
       "\n",
       "   Latitude  Longitude  Max Temp  Wind Speed  \n",
       "0  -34.4187    19.2345     58.08       13.02  \n",
       "1   70.6333   147.9167     -4.72        3.02  \n",
       "2  -46.1927   168.8643     60.85        2.71  \n",
       "3    0.1333   117.5000     83.41       10.49  \n",
       "4   -6.4006   -48.5550     74.19        0.56  "
      ]
     },
     "execution_count": 94,
     "metadata": {},
     "output_type": "execute_result"
    }
   ],
   "source": [
    "clean_city_data.head()"
   ]
  },
  {
   "cell_type": "code",
   "execution_count": 95,
   "metadata": {},
   "outputs": [
    {
     "name": "stdout",
     "output_type": "stream",
     "text": [
      "The r-squared is : 0.8109445548677072\n"
     ]
    },
    {
     "data": {
      "image/png": "[encoded data removed]",
      "text/plain": [
       "<Figure size 432x288 with 1 Axes>"
      ]
     },
     "metadata": {
      "needs_background": "light"
     },
     "output_type": "display_data"
    },
    {
     "name": "stdout",
     "output_type": "stream",
     "text": [
      "None\n"
     ]
    }
   ],
   "source": [
    "northern_hemisphere = clean_city_data.loc[clean_city_data[\"Latitude\"]>= 0]\n",
    "southern_hemisphere = clean_city_data.loc[clean_city_data[\"Latitude\"]< 0]\n",
    "\n",
    "x_values = northern_hemisphere[\"Latitude\"]\n",
    "y_values = northern_hemisphere[\"Max Temp\"]\n",
    "\n",
    "\n",
    "#plt.savefig(\"scatterplotlatvsmaxtemp.north\")\n",
    "print(lin_reg_plot(x_values, y_values))\n"
   ]
  },
  {
   "cell_type": "markdown",
   "metadata": {},
   "source": [
    "####  Southern Hemisphere - Max Temp vs. Latitude Linear Regression"
   ]
  },
  {
   "cell_type": "code",
   "execution_count": 96,
   "metadata": {},
   "outputs": [
    {
     "name": "stdout",
     "output_type": "stream",
     "text": [
      "The r-squared is : 0.5424504923232559\n"
     ]
    },
    {
     "data": {
      "image/png": "[encoded data removed]",
      "text/plain": [
       "<Figure size 432x288 with 1 Axes>"
      ]
     },
     "metadata": {
      "needs_background": "light"
     },
     "output_type": "display_data"
    },
    {
     "name": "stdout",
     "output_type": "stream",
     "text": [
      "None\n"
     ]
    }
   ],
   "source": [
    "x_values = southern_hemisphere[\"Latitude\"]\n",
    "y_values = southern_hemisphere[\"Max Temp\"]\n",
    "\n",
    "plt.ylabel(\"Max Temp(F)\")\n",
    "print(lin_reg_plot(x_values, y_values))"
   ]
  },
  {
   "cell_type": "markdown",
   "metadata": {},
   "source": [
    "####  Northern Hemisphere - Humidity (%) vs. Latitude Linear Regression"
   ]
  },
  {
   "cell_type": "code",
   "execution_count": 97,
   "metadata": {},
   "outputs": [
    {
     "name": "stdout",
     "output_type": "stream",
     "text": [
      "The r-squared is : 0.04197812997764632\n"
     ]
    },
    {
     "data": {
      "image/png": "[encoded data removed]",
      "text/plain": [
       "<Figure size 432x288 with 1 Axes>"
      ]
     },
     "metadata": {
      "needs_background": "light"
     },
     "output_type": "display_data"
    }
   ],
   "source": [
    "x_values = northern_hemisphere[\"Latitude\"]\n",
    "y_values = northern_hemisphere[\"Humidity\"]\n",
    "\n",
    "plt.ylabel(\"Humidity\")\n",
    "lin_reg_plot(x_values, y_values)"
   ]
  },
  {
   "cell_type": "markdown",
   "metadata": {},
   "source": [
    "####  Southern Hemisphere - Humidity (%) vs. Latitude Linear Regression"
   ]
  },
  {
   "cell_type": "code",
   "execution_count": 99,
   "metadata": {},
   "outputs": [
    {
     "name": "stdout",
     "output_type": "stream",
     "text": [
      "The r-squared is : 0.5424504923232559\n"
     ]
    },
    {
     "data": {
      "image/png": "[encoded data removed]",
      "text/plain": [
       "<Figure size 432x288 with 1 Axes>"
      ]
     },
     "metadata": {
      "needs_background": "light"
     },
     "output_type": "display_data"
    }
   ],
   "source": [
    "x_values = southern_hemisphere[\"Latitude\"]\n",
    "y_values = southern_hemisphere[\"Max Temp\"]\n",
    "\n",
    "plt.ylabel(\"Max Temp(F)\")\n",
    "lin_reg_plot(x_values, y_values)"
   ]
  },
  {
   "cell_type": "markdown",
   "metadata": {},
   "source": [
    "####  Northern Hemisphere - Cloudiness (%) vs. Latitude Linear Regression"
   ]
  },
  {
   "cell_type": "code",
   "execution_count": 100,
   "metadata": {},
   "outputs": [
    {
     "name": "stdout",
     "output_type": "stream",
     "text": [
      "The r-squared is : 0.027741280734957907\n"
     ]
    },
    {
     "data": {
      "image/png": "[encoded data removed]",
      "text/plain": [
       "<Figure size 432x288 with 1 Axes>"
      ]
     },
     "metadata": {
      "needs_background": "light"
     },
     "output_type": "display_data"
    }
   ],
   "source": [
    "x_values = northern_hemisphere[\"Latitude\"]\n",
    "y_values = northern_hemisphere[\"Cloudiness\"]\n",
    "\n",
    "plt.ylabel(\"Cloudiness(%)\")\n",
    "lin_reg_plot(x_values, y_values)"
   ]
  },
  {
   "cell_type": "markdown",
   "metadata": {},
   "source": [
    "####  Southern Hemisphere - Cloudiness (%) vs. Latitude Linear Regression"
   ]
  },
  {
   "cell_type": "code",
   "execution_count": 101,
   "metadata": {},
   "outputs": [
    {
     "name": "stdout",
     "output_type": "stream",
     "text": [
      "The r-squared is : 0.06103978555981891\n"
     ]
    },
    {
     "data": {
      "image/png": "[encoded data removed]",
      "text/plain": [
       "<Figure size 432x288 with 1 Axes>"
      ]
     },
     "metadata": {
      "needs_background": "light"
     },
     "output_type": "display_data"
    }
   ],
   "source": [
    "x_values = southern_hemisphere[\"Latitude\"]\n",
    "y_values = southern_hemisphere[\"Cloudiness\"]\n",
    "\n",
    "plt.ylabel(\"Cloudiness(%)\")\n",
    "lin_reg_plot(x_values, y_values)"
   ]
  },
  {
   "cell_type": "markdown",
   "metadata": {},
   "source": [
    "####  Northern Hemisphere - Wind Speed (mph) vs. Latitude Linear Regression"
   ]
  },
  {
   "cell_type": "code",
   "execution_count": 102,
   "metadata": {},
   "outputs": [
    {
     "name": "stdout",
     "output_type": "stream",
     "text": [
      "The r-squared is : 0.04283871684997916\n"
     ]
    },
    {
     "data": {
      "image/png": "[encoded data removed]",
      "text/plain": [
       "<Figure size 432x288 with 1 Axes>"
      ]
     },
     "metadata": {
      "needs_background": "light"
     },
     "output_type": "display_data"
    }
   ],
   "source": [
    "x_values = northern_hemisphere[\"Latitude\"]\n",
    "y_values = northern_hemisphere[\"Wind Speed\"]\n",
    "\n",
    "plt.ylabel(\"Wind Speed(mph)\")\n",
    "lin_reg_plot(x_values, y_values)"
   ]
  },
  {
   "cell_type": "markdown",
   "metadata": {},
   "source": [
    "####  Southern Hemisphere - Wind Speed (mph) vs. Latitude Linear Regression"
   ]
  },
  {
   "cell_type": "code",
   "execution_count": 103,
   "metadata": {},
   "outputs": [
    {
     "name": "stdout",
     "output_type": "stream",
     "text": [
      "The r-squared is : 0.10510541684114068\n"
     ]
    },
    {
     "data": {
      "image/png": "[encoded data removed]",
      "text/plain": [
       "<Figure size 432x288 with 1 Axes>"
      ]
     },
     "metadata": {
      "needs_background": "light"
     },
     "output_type": "display_data"
    }
   ],
   "source": [
    "x_values = southern_hemisphere[\"Latitude\"]\n",
    "y_values = southern_hemisphere[\"Wind Speed\"]\n",
    "\n",
    "plt.ylabel(\"Wind Speed(mph)\")\n",
    "lin_reg_plot(x_values, y_values)"
   ]
  },
  {
   "cell_type": "code",
   "execution_count": null,
   "metadata": {},
   "outputs": [],
   "source": []
  }
 ],
 "metadata": {
  "anaconda-cloud": {},
  "kernel_info": {
   "name": "python3"
  },
  "kernelspec": {
   "display_name": "Python 3",
   "language": "python",
   "name": "python3"
  },
  "language_info": {
   "codemirror_mode": {
    "name": "ipython",
    "version": 3
   },
   "file_extension": ".py",
   "mimetype": "text/x-python",
   "name": "python",
   "nbconvert_exporter": "python",
   "pygments_lexer": "ipython3",
   "version": "3.8.8"
  },
  "latex_envs": {
   "LaTeX_envs_menu_present": true,
   "autoclose": false,
   "autocomplete": true,
   "bibliofile": "biblio.bib",
   "cite_by": "apalike",
   "current_citInitial": 1,
   "eqLabelWithNumbers": true,
   "eqNumInitial": 1,
   "hotkeys": {
    "equation": "Ctrl-E",
    "itemize": "Ctrl-I"
   },
   "labels_anchors": false,
   "latex_user_defs": false,
   "report_style_numbering": false,
   "user_envs_cfg": false
  },
  "nteract": {
   "version": "0.12.3"
  }
 },
 "nbformat": 4,
 "nbformat_minor": 2
}
