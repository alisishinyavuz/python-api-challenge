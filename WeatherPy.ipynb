{
 "cells": [
  {
   "cell_type": "markdown",
   "metadata": {},
   "source": [
    "# WeatherPy\n"
   ]
  },
  {
   "cell_type": "code",
   "execution_count": null,
   "metadata": {
    "scrolled": true
   },
   "outputs": [],
   "source": [
    "# Dependencies and Setup\n",
    "import matplotlib.pyplot as plt\n",
    "import pandas as pd\n",
    "import numpy as np\n",
    "import requests\n",
    "import time\n",
    "from scipy.stats import linregress\n",
    "import json\n",
    "\n",
    "\n",
    "# Import API key\n",
    "from api_keys import weather_api_key\n",
    "\n",
    "# Incorporated citipy to determine city based on latitude and longitude\n",
    "from citipy import citipy\n",
    "\n",
    "# Output File (CSV)\n",
    "output_data_file = \"output_data/cities.csv\"\n",
    "\n",
    "# Range of latitudes and longitudes\n",
    "lat_range = (-90, 90)\n",
    "lng_range = (-180, 180)"
   ]
  },
  {
   "cell_type": "code",
   "execution_count": null,
   "metadata": {},
   "outputs": [],
   "source": [
    "# List for holding lat_lngs and cities\n",
    "lat_lngs = []\n",
    "cities = []\n",
    "\n",
    "# Create a set of random lat and lng combinations\n",
    "lats = np.random.uniform(lat_range[0], lat_range[1], size=1500)\n",
    "lngs = np.random.uniform(lng_range[0], lng_range[1], size=1500)\n",
    "#lngs\n",
    "\n",
    "lat_lngs = zip(lats, lngs)"
   ]
  },
  {
   "cell_type": "code",
   "execution_count": null,
   "metadata": {},
   "outputs": [],
   "source": [
    "# Identify nearest city for each lat, lng combination\n",
    "for lat_lng in lat_lngs:\n",
    "    city = citipy.nearest_city(lat_lng[0], lat_lng[1]).city_name\n",
    "    \n",
    "    # If the city is unique, then add it to a our cities list\n",
    "    if city not in cities:\n",
    "        cities.append(city)\n",
    "\n",
    "# Print the city count to confirm sufficient count\n",
    "len(cities)"
   ]
  },
  {
   "cell_type": "markdown",
   "metadata": {},
   "source": [
    "## Generate Cities List"
   ]
  },
  {
   "cell_type": "code",
   "execution_count": null,
   "metadata": {
    "scrolled": true
   },
   "outputs": [],
   "source": [
    "base_url = \"http://api.openweathermap.org/data/2.5/forecast?id=524901&appid=\"\n",
    "\n",
    "url = base_url + weather_api_key\n",
    "response = requests.get(url).json()"
   ]
  },
  {
   "cell_type": "code",
   "execution_count": null,
   "metadata": {},
   "outputs": [],
   "source": [
    "#empty lists defined to store findings\n",
    "country = []\n",
    "city_name =[]\n",
    "date = []\n",
    "cloudiness= []\n",
    "wind_speed = []\n",
    "max_temp = []\n",
    "humidity = []\n",
    "lat = []\n",
    "lng = []\n",
    "\n",
    "\n",
    "#Request data on each city \n",
    "count = 1\n",
    "\n",
    "for city in cities:\n",
    "    \n",
    "    query_url = url + \"&units=Imperial\" + \"&q=\" +city\n",
    "    \n",
    "    response_json = requests.get(query_url).json() \n",
    "    \n",
    "    \n",
    "    try:\n",
    "        \n",
    "        country.append(response_json[\"city\"][\"country\"])\n",
    "        city_name.append(response_json[\"city\"][\"name\"])\n",
    "        date.append(response_json[\"list\"][0][\"dt\"])\n",
    "        cloudiness.append(response_json[\"list\"][0][\"clouds\"][\"all\"])\n",
    "        wind_speed.append(response_json[\"list\"][0][\"wind\"][\"speed\"])\n",
    "        max_temp.append(response_json[\"list\"][0][\"main\"][\"temp_max\"])\n",
    "        humidity.append(response_json[\"list\"][0][\"main\"][\"humidity\"])\n",
    "        lat.append(response_json[\"city\"][\"coord\"][\"lat\"])  \n",
    "        lng.append(response_json[\"city\"][\"coord\"][\"lon\"])\n",
    "        \n",
    "      \n",
    "        print(f\"Processing record {count}|{city}\")\n",
    "        count+=1\n",
    "        \n",
    "    except (KeyError, IndexError):\n",
    "        print(\"Record not found.skipping.\")\n",
    "        \n",
    "print(\"Completed!\")\n",
    "   "
   ]
  },
  {
   "cell_type": "code",
   "execution_count": null,
   "metadata": {},
   "outputs": [],
   "source": [
    "weather_data = pd.DataFrame({\"City\":city_name, \"Cloudiness\":cloudiness,\"Country\":country, \n",
    "                          \"Date\":date, \"Humidity\":humidity, \"Latitude\":lat,\"Longitude\":lng, \n",
    "                         \"Max Temp\":max_temp, \"Wind Speed\":wind_speed})\n",
    "\n",
    "#weather_data =weather_data.rename_axis(\"City ID\")\n",
    "\n",
    "#Export the city data into a .csv.\n",
    "weather_data.to_csv(\"../output_data/weather.csv\")\n",
    "#Display the DataFrame\n",
    "weather_data.head()"
   ]
  },
  {
   "cell_type": "code",
   "execution_count": null,
   "metadata": {},
   "outputs": [],
   "source": [
    "#weather_data.dtypes == object"
   ]
  },
  {
   "cell_type": "markdown",
   "metadata": {},
   "source": [
    "## Inspect the data and remove the cities where the humidity > 100%.\n",
    "----\n",
    "Skip this step if there are no cities that have humidity > 100%. "
   ]
  },
  {
   "cell_type": "code",
   "execution_count": null,
   "metadata": {},
   "outputs": [],
   "source": [
    "#  Get the indices of cities that have humidity over 100%.\n",
    "high_humidity = weather_data.loc[weather_data[\"Humidity\"] > 100]\n",
    "high_humidity"
   ]
  },
  {
   "cell_type": "code",
   "execution_count": null,
   "metadata": {},
   "outputs": [],
   "source": [
    "# Make a new DataFrame equal to the city data to drop all humidity outliers by index.\n",
    "clean_city_data= weather_data.dropna(inplace = False)"
   ]
  },
  {
   "cell_type": "markdown",
   "metadata": {},
   "source": [
    "## Plotting the Data\n",
    "* Use proper labeling of the plots using plot titles (including date of analysis) and axes labels.\n",
    "* Save the plotted figures as .pngs."
   ]
  },
  {
   "cell_type": "markdown",
   "metadata": {},
   "source": [
    "## Latitude vs. Temperature Plot"
   ]
  },
  {
   "cell_type": "code",
   "execution_count": null,
   "metadata": {},
   "outputs": [],
   "source": [
    "#create a scatter plot for latitude vs max temperature to see the relationship between them\n",
    "x= weather_data[\"Latitude\"]\n",
    "y1 = weather_data[\"Max Temp\"]\n",
    "\n",
    "plt.scatter(x,y1)\n",
    "plt.xlabel(\"Latitude\")\n",
    "plt.ylabel(\"Max Temperature\")\n",
    "plt.title(\"Latitude vs. Max Temperature\")\n",
    "plt.savefig(\"latvsmaxtemp\")\n",
    "plt.show()"
   ]
  },
  {
   "cell_type": "code",
   "execution_count": null,
   "metadata": {},
   "outputs": [],
   "source": [
    "#We see positive correlation on south, and negative correlation on north side when we check latitude vs max temperature relationship.\n"
   ]
  },
  {
   "cell_type": "markdown",
   "metadata": {},
   "source": [
    "## Latitude vs. Humidity Plot"
   ]
  },
  {
   "cell_type": "code",
   "execution_count": null,
   "metadata": {
    "scrolled": true
   },
   "outputs": [],
   "source": [
    "#create a scatter plot for latitude vs humidity to see the relationship between them\n",
    "y2 = weather_data[\"Humidity\"]\n",
    "\n",
    "plt.scatter(x,y2)\n",
    "plt.xlabel(\"Latitude\")\n",
    "plt.ylabel(\"Humidity(%)\")\n",
    "plt.title(\"Latitude vs. Humidity\")\n",
    "plt.savefig(\"latvshumidity\")\n",
    "plt.show()"
   ]
  },
  {
   "cell_type": "markdown",
   "metadata": {},
   "source": [
    "## Latitude vs. Cloudiness Plot"
   ]
  },
  {
   "cell_type": "code",
   "execution_count": null,
   "metadata": {},
   "outputs": [],
   "source": [
    "#create a scatter plot for latitude vs cloudiness to see the relationship between them\n",
    "y3 = weather_data[\"Cloudiness\"]\n",
    "\n",
    "plt.scatter(x,y3)\n",
    "plt.xlabel(\"Latitude\")\n",
    "plt.ylabel(\"Cloudiness(%)\")\n",
    "plt.title(\"Latitude vs. Cloudiness\")\n",
    "plt.savefig(\"latvscloudiness\")\n",
    "plt.show()"
   ]
  },
  {
   "cell_type": "markdown",
   "metadata": {},
   "source": [
    "## Latitude vs. Wind Speed Plot"
   ]
  },
  {
   "cell_type": "code",
   "execution_count": null,
   "metadata": {},
   "outputs": [],
   "source": [
    "#create a scatter plot for latitude vs wind speed to see the relationship between them\n",
    "y4 = weather_data[\"Wind Speed\"]\n",
    "\n",
    "plt.scatter(x,y4)\n",
    "plt.xlabel(\"Latitude\")\n",
    "plt.ylabel(\"Wind Speed (mph)\")\n",
    "plt.title(\"Latitude vs. Wind Speed\")\n",
    "plt.savefig(\"latvshumidity\")\n",
    "plt.show()"
   ]
  },
  {
   "cell_type": "markdown",
   "metadata": {},
   "source": [
    "## Linear Regression"
   ]
  },
  {
   "cell_type": "code",
   "execution_count": null,
   "metadata": {},
   "outputs": [],
   "source": [
    "def lin_reg_plot(x_values, y_values):\n",
    "    (slope, intercept, rvalue, pvalue, stderr) = linregress(x_values, y_values)\n",
    "    regress_values = x_values * slope + intercept\n",
    "    line_eq = \"y =\" + str(round(slope,2) ) + \"x + \" + str(round(intercept,2))\n",
    "\n",
    "    plt.scatter(x_values, y_values)\n",
    "    plt.plot(x_values, regress_values, \"r-\")\n",
    "    plt.annotate(line_eq,(x_values.median(), y_values.median()),fontsize=15,color=\"red\")\n",
    "    plt.xlabel(\"Latitude\")\n",
    "    print(f\"The r-squared is : {rvalue**2}\")\n",
    "    plt.show()"
   ]
  },
  {
   "cell_type": "markdown",
   "metadata": {},
   "source": [
    "####  Northern Hemisphere - Max Temp vs. Latitude Linear Regression"
   ]
  },
  {
   "cell_type": "code",
   "execution_count": null,
   "metadata": {},
   "outputs": [],
   "source": [
    "clean_city_data.head()"
   ]
  },
  {
   "cell_type": "code",
   "execution_count": null,
   "metadata": {},
   "outputs": [],
   "source": [
    "northern_hemisphere = clean_city_data.loc[clean_city_data[\"Latitude\"]>= 0]\n",
    "southern_hemisphere = clean_city_data.loc[clean_city_data[\"Latitude\"]< 0]\n",
    "\n",
    "x_values = northern_hemisphere[\"Latitude\"]\n",
    "y_values = northern_hemisphere[\"Max Temp\"]\n",
    "\n",
    "\n",
    "#plt.savefig(\"scatterplotlatvsmaxtemp.north\")\n",
    "print(lin_reg_plot(x_values, y_values))\n"
   ]
  },
  {
   "cell_type": "markdown",
   "metadata": {},
   "source": [
    "####  Southern Hemisphere - Max Temp vs. Latitude Linear Regression"
   ]
  },
  {
   "cell_type": "code",
   "execution_count": null,
   "metadata": {},
   "outputs": [],
   "source": [
    "x_values = southern_hemisphere[\"Latitude\"]\n",
    "y_values = southern_hemisphere[\"Max Temp\"]\n",
    "\n",
    "plt.ylabel(\"Max Temp(F)\")\n",
    "print(lin_reg_plot(x_values, y_values))"
   ]
  },
  {
   "cell_type": "markdown",
   "metadata": {},
   "source": [
    "####  Northern Hemisphere - Humidity (%) vs. Latitude Linear Regression"
   ]
  },
  {
   "cell_type": "code",
   "execution_count": null,
   "metadata": {},
   "outputs": [],
   "source": [
    "x_values = northern_hemisphere[\"Latitude\"]\n",
    "y_values = northern_hemisphere[\"Humidity\"]\n",
    "\n",
    "plt.ylabel(\"Humidity\")\n",
    "lin_reg_plot(x_values, y_values)"
   ]
  },
  {
   "cell_type": "markdown",
   "metadata": {},
   "source": [
    "####  Southern Hemisphere - Humidity (%) vs. Latitude Linear Regression"
   ]
  },
  {
   "cell_type": "code",
   "execution_count": null,
   "metadata": {},
   "outputs": [],
   "source": [
    "x_values = southern_hemisphere[\"Latitude\"]\n",
    "y_values = southern_hemisphere[\"Max Temp\"]\n",
    "\n",
    "plt.ylabel(\"Max Temp(F)\")\n",
    "lin_reg_plot(x_values, y_values)"
   ]
  },
  {
   "cell_type": "markdown",
   "metadata": {},
   "source": [
    "####  Northern Hemisphere - Cloudiness (%) vs. Latitude Linear Regression"
   ]
  },
  {
   "cell_type": "code",
   "execution_count": null,
   "metadata": {},
   "outputs": [],
   "source": [
    "x_values = northern_hemisphere[\"Latitude\"]\n",
    "y_values = northern_hemisphere[\"Cloudiness\"]\n",
    "\n",
    "plt.ylabel(\"Cloudiness(%)\")\n",
    "lin_reg_plot(x_values, y_values)"
   ]
  },
  {
   "cell_type": "markdown",
   "metadata": {},
   "source": [
    "####  Southern Hemisphere - Cloudiness (%) vs. Latitude Linear Regression"
   ]
  },
  {
   "cell_type": "code",
   "execution_count": null,
   "metadata": {},
   "outputs": [],
   "source": [
    "x_values = southern_hemisphere[\"Latitude\"]\n",
    "y_values = southern_hemisphere[\"Cloudiness\"]\n",
    "\n",
    "plt.ylabel(\"Cloudiness(%)\")\n",
    "lin_reg_plot(x_values, y_values)"
   ]
  },
  {
   "cell_type": "markdown",
   "metadata": {},
   "source": [
    "####  Northern Hemisphere - Wind Speed (mph) vs. Latitude Linear Regression"
   ]
  },
  {
   "cell_type": "code",
   "execution_count": null,
   "metadata": {},
   "outputs": [],
   "source": [
    "x_values = northern_hemisphere[\"Latitude\"]\n",
    "y_values = northern_hemisphere[\"Wind Speed\"]\n",
    "\n",
    "plt.ylabel(\"Wind Speed(mph)\")\n",
    "lin_reg_plot(x_values, y_values)"
   ]
  },
  {
   "cell_type": "markdown",
   "metadata": {},
   "source": [
    "####  Southern Hemisphere - Wind Speed (mph) vs. Latitude Linear Regression"
   ]
  },
  {
   "cell_type": "code",
   "execution_count": null,
   "metadata": {},
   "outputs": [],
   "source": [
    "x_values = southern_hemisphere[\"Latitude\"]\n",
    "y_values = southern_hemisphere[\"Wind Speed\"]\n",
    "\n",
    "plt.ylabel(\"Wind Speed(mph)\")\n",
    "lin_reg_plot(x_values, y_values)"
   ]
  },
  {
   "cell_type": "code",
   "execution_count": null,
   "metadata": {},
   "outputs": [],
   "source": []
  }
 ],
 "metadata": {
  "anaconda-cloud": {},
  "kernel_info": {
   "name": "python3"
  },
  "kernelspec": {
   "display_name": "Python 3",
   "language": "python",
   "name": "python3"
  },
  "language_info": {
   "codemirror_mode": {
    "name": "ipython",
    "version": 3
   },
   "file_extension": ".py",
   "mimetype": "text/x-python",
   "name": "python",
   "nbconvert_exporter": "python",
   "pygments_lexer": "ipython3",
   "version": "3.8.8"
  },
  "latex_envs": {
   "LaTeX_envs_menu_present": true,
   "autoclose": false,
   "autocomplete": true,
   "bibliofile": "biblio.bib",
   "cite_by": "apalike",
   "current_citInitial": 1,
   "eqLabelWithNumbers": true,
   "eqNumInitial": 1,
   "hotkeys": {
    "equation": "Ctrl-E",
    "itemize": "Ctrl-I"
   },
   "labels_anchors": false,
   "latex_user_defs": false,
   "report_style_numbering": false,
   "user_envs_cfg": false
  },
  "nteract": {
   "version": "0.12.3"
  }
 },
 "nbformat": 4,
 "nbformat_minor": 2
}
